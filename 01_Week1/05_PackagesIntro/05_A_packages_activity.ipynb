{
 "cells": [
  {
   "cell_type": "markdown",
   "metadata": {},
   "source": [
    "In Python, there is often something that you want to be able to do that someone else has already figured out. For example, you may want to read an excel file, or plot some data, or calculate some statistic. You don't need to start from scratch and write an entire script that accomplishes tasks like this. Instead you can do what's called an ``import``, which basically gives you access to code that someone else has written. To do this, you just need to know the name of the ``package``, and the name of the ``function`` you want to use. In this activity, you'll use what you learned about reading documentation to implement code written by someone else, that you can use for your own purposes. "
   ]
  },
  {
   "cell_type": "markdown",
   "metadata": {},
   "source": [
    "# NumPy\n",
    "You will use what you learned about finding the correct documentation and code help to implement functions inside of the NumPy package. Note while searching online for information about Numpy that it is often abbreviated as ``np``. "
   ]
  },
  {
   "cell_type": "markdown",
   "metadata": {},
   "source": [
    "Consider your grocery list from previous activities. This time, suppose you're keeping track of the cost of apples over time. You go to the store 5 times, and each time you record the price of apples:"
   ]
  },
  {
   "cell_type": "code",
   "execution_count": 1,
   "metadata": {},
   "outputs": [
    {
     "name": "stdout",
     "output_type": "stream",
     "text": [
      "Collecting xlrd\n",
      "  Downloading xlrd-1.2.0-py2.py3-none-any.whl (103 kB)\n",
      "\u001b[K     |████████████████████████████████| 103 kB 2.1 MB/s eta 0:00:01\n",
      "\u001b[?25hInstalling collected packages: xlrd\n",
      "Successfully installed xlrd-1.2.0\n"
     ]
    }
   ],
   "source": [
    "!pip install xlrd"
   ]
  },
  {
   "cell_type": "code",
   "execution_count": 11,
   "metadata": {},
   "outputs": [
    {
     "data": {
      "text/plain": [
       "[1.34, 2.01, 1.75, 1.5, 2.5, 1]"
      ]
     },
     "execution_count": 11,
     "metadata": {},
     "output_type": "execute_result"
    }
   ],
   "source": [
    "apples_price = [1.34,2.01,1.75,1.50,2.50]\n",
    "apples_price + [1]"
   ]
  },
  {
   "cell_type": "markdown",
   "metadata": {},
   "source": [
    "Turn this list into a Numpy array. First figure out how to ``import`` Numpy correctly, then how to turn this into a Numpy array. "
   ]
  },
  {
   "cell_type": "code",
   "execution_count": 14,
   "metadata": {},
   "outputs": [
    {
     "name": "stdout",
     "output_type": "stream",
     "text": [
      "[1.34 2.01 1.75 1.5  2.5 ]\n",
      "[7.34 8.01 7.75 7.5  8.5 ]\n"
     ]
    }
   ],
   "source": [
    "apples_price = [1.34,2.01,1.75,1.50,2.50]\n",
    "#add import here\n",
    "import numpy as np\n",
    "\n",
    "#then create your array\n",
    "apples_price_array = np.array(apples_price)\n",
    "print(apples_price_array)\n",
    "print(apples_price_array +6)"
   ]
  },
  {
   "cell_type": "markdown",
   "metadata": {},
   "source": [
    "Whoops, you made a mistake and wrote down the price for 2 apples each time instead of 1! Multiply your array by 0.5 (or divide by 2) to correct for this issue. "
   ]
  },
  {
   "cell_type": "code",
   "execution_count": 12,
   "metadata": {},
   "outputs": [
    {
     "name": "stdout",
     "output_type": "stream",
     "text": [
      "[0.67  1.005 0.875 0.75  1.25 ]\n"
     ]
    }
   ],
   "source": [
    "# fix the mistake here\n",
    "apples_price_array = np.array(apples_price)\n",
    "# did the numbers in the array halve?\n",
    "apples_price_array/=2\n",
    "print(apples_price_array)\n"
   ]
  },
  {
   "cell_type": "code",
   "execution_count": 22,
   "metadata": {},
   "outputs": [],
   "source": [
    "#this will give the documentation for the function you are not sure about in the notebook itself\n",
    "np.array?"
   ]
  },
  {
   "cell_type": "markdown",
   "metadata": {},
   "source": [
    "You also recorded the price of cookies while shopping, and made a new list of prices for cookies. Turn it into an array, and then add it to your apples array to get your total cost of shopping per trip."
   ]
  },
  {
   "cell_type": "code",
   "execution_count": null,
   "metadata": {},
   "outputs": [],
   "source": []
  },
  {
   "cell_type": "code",
   "execution_count": 13,
   "metadata": {},
   "outputs": [
    {
     "name": "stdout",
     "output_type": "stream",
     "text": [
      "[0.53 1.21 0.75 1.23 0.95]\n",
      "My cost per trip was:  [1.87 3.22 2.5  2.73 3.45]\n"
     ]
    }
   ],
   "source": [
    "# paste your apples_price_array declaration here\n",
    "apples_price_array = np.array(apples_price)\n",
    "cookies_price = [0.53,1.21,0.75,1.23,0.95]\n",
    "#create your array\n",
    "cookies_price_array = np.array(cookies_price)\n",
    "print(cookies_price_array)\n",
    "#add together the apples_price_array and the cookies_price_array here\n",
    "total_shopping_cost_per_trip = apples_price_array + cookies_price_array\n",
    "print('My cost per trip was: ',total_shopping_cost_per_trip)"
   ]
  },
  {
   "cell_type": "markdown",
   "metadata": {},
   "source": [
    "Your final array (``total_shopping_cost_per_trip``) tells you the cost of each of your trips to the grocery store over 5 trips. How much did you spend combined for all trips? Try Numpy's ``sum`` function."
   ]
  },
  {
   "cell_type": "code",
   "execution_count": 14,
   "metadata": {},
   "outputs": [
    {
     "name": "stdout",
     "output_type": "stream",
     "text": [
      "In total I spent:  68.85\n"
     ]
    }
   ],
   "source": [
    "total_cost_of_groceries = np.sum(total_shopping_cost_per_trip * 5)\n",
    "print('In total I spent: ',total_cost_of_groceries)"
   ]
  },
  {
   "cell_type": "markdown",
   "metadata": {},
   "source": [
    "# Matplotlib\n",
    "You will use what you learned about finding the correct documentation and code help to implement functions inside of the Matplotlib package. This one is a little more complicated so we'll give you the first line for free. Matplotlib has a variety of components built into it, so that instead of simply importing the Matplotlib package and using its valuable functions, you need to call the ``pyplot`` module inside of Matplotlib. This won't really matter to you in terms of usage, except that when we say something like \"use the Matplotlib ``plot`` function\", you will run ``matplotlib.pyplot.plot`` instead of ``matplotlib.plot``."
   ]
  },
  {
   "cell_type": "markdown",
   "metadata": {},
   "source": [
    "Use the Matplotlib ``hist`` function to plot a histogram of the price data for apples that you implemented above."
   ]
  },
  {
   "cell_type": "code",
   "execution_count": null,
   "metadata": {},
   "outputs": [],
   "source": [
    "plt.hist?"
   ]
  },
  {
   "cell_type": "code",
   "execution_count": 15,
   "metadata": {},
   "outputs": [
    {
     "data": {
      "image/png": "[encoded data removed]",
      "text/plain": [
       "<Figure size 432x288 with 1 Axes>"
      ]
     },
     "metadata": {
      "needs_background": "light"
     },
     "output_type": "display_data"
    },
    {
     "ename": "ValueError",
     "evalue": "The truth value of an array with more than one element is ambiguous. Use a.any() or a.all()",
     "output_type": "error",
     "traceback": [
      "\u001b[0;31m---------------------------------------------------------------------------\u001b[0m",
      "\u001b[0;31mValueError\u001b[0m                                Traceback (most recent call last)",
      "\u001b[0;32m<ipython-input-15-0be7846610f7>\u001b[0m in \u001b[0;36m<module>\u001b[0;34m\u001b[0m\n\u001b[1;32m      8\u001b[0m \u001b[0mplt\u001b[0m\u001b[0;34m.\u001b[0m\u001b[0mhist\u001b[0m\u001b[0;34m(\u001b[0m\u001b[0mapples_price_array\u001b[0m\u001b[0;34m)\u001b[0m\u001b[0;34m\u001b[0m\u001b[0;34m\u001b[0m\u001b[0m\n\u001b[1;32m      9\u001b[0m \u001b[0;34m\u001b[0m\u001b[0m\n\u001b[0;32m---> 10\u001b[0;31m \u001b[0mmatplotlib\u001b[0m\u001b[0;34m.\u001b[0m\u001b[0mpyplot\u001b[0m\u001b[0;34m.\u001b[0m\u001b[0mshow\u001b[0m\u001b[0;34m(\u001b[0m\u001b[0mapples_price_array\u001b[0m\u001b[0;34m)\u001b[0m \u001b[0;31m# This just shows your plot. You could also save it with \"savefig\"\u001b[0m\u001b[0;34m\u001b[0m\u001b[0;34m\u001b[0m\u001b[0m\n\u001b[0m",
      "\u001b[0;32m/opt/virtualenvs/python3/lib/python3.8/site-packages/matplotlib/pyplot.py\u001b[0m in \u001b[0;36mshow\u001b[0;34m(*args, **kw)\u001b[0m\n\u001b[1;32m    270\u001b[0m     \"\"\"\n\u001b[1;32m    271\u001b[0m     \u001b[0;32mglobal\u001b[0m \u001b[0m_show\u001b[0m\u001b[0;34m\u001b[0m\u001b[0;34m\u001b[0m\u001b[0m\n\u001b[0;32m--> 272\u001b[0;31m     \u001b[0;32mreturn\u001b[0m \u001b[0m_show\u001b[0m\u001b[0;34m(\u001b[0m\u001b[0;34m*\u001b[0m\u001b[0margs\u001b[0m\u001b[0;34m,\u001b[0m \u001b[0;34m**\u001b[0m\u001b[0mkw\u001b[0m\u001b[0;34m)\u001b[0m\u001b[0;34m\u001b[0m\u001b[0;34m\u001b[0m\u001b[0m\n\u001b[0m\u001b[1;32m    273\u001b[0m \u001b[0;34m\u001b[0m\u001b[0m\n\u001b[1;32m    274\u001b[0m \u001b[0;34m\u001b[0m\u001b[0m\n",
      "\u001b[0;32m/opt/virtualenvs/python3/lib/python3.8/site-packages/ipykernel/pylab/backend_inline.py\u001b[0m in \u001b[0;36mshow\u001b[0;34m(close, block)\u001b[0m\n\u001b[1;32m     47\u001b[0m         \u001b[0;31m# only call close('all') if any to close\u001b[0m\u001b[0;34m\u001b[0m\u001b[0;34m\u001b[0m\u001b[0;34m\u001b[0m\u001b[0m\n\u001b[1;32m     48\u001b[0m         \u001b[0;31m# close triggers gc.collect, which can be slow\u001b[0m\u001b[0;34m\u001b[0m\u001b[0;34m\u001b[0m\u001b[0;34m\u001b[0m\u001b[0m\n\u001b[0;32m---> 49\u001b[0;31m         \u001b[0;32mif\u001b[0m \u001b[0mclose\u001b[0m \u001b[0;32mand\u001b[0m \u001b[0mGcf\u001b[0m\u001b[0;34m.\u001b[0m\u001b[0mget_all_fig_managers\u001b[0m\u001b[0;34m(\u001b[0m\u001b[0;34m)\u001b[0m\u001b[0;34m:\u001b[0m\u001b[0;34m\u001b[0m\u001b[0;34m\u001b[0m\u001b[0m\n\u001b[0m\u001b[1;32m     50\u001b[0m             \u001b[0mmatplotlib\u001b[0m\u001b[0;34m.\u001b[0m\u001b[0mpyplot\u001b[0m\u001b[0;34m.\u001b[0m\u001b[0mclose\u001b[0m\u001b[0;34m(\u001b[0m\u001b[0;34m'all'\u001b[0m\u001b[0;34m)\u001b[0m\u001b[0;34m\u001b[0m\u001b[0;34m\u001b[0m\u001b[0m\n\u001b[1;32m     51\u001b[0m \u001b[0;34m\u001b[0m\u001b[0m\n",
      "\u001b[0;31mValueError\u001b[0m: The truth value of an array with more than one element is ambiguous. Use a.any() or a.all()"
     ]
    },
    {
     "data": {
      "image/png": "[encoded data removed]",
      "text/plain": [
       "<Figure size 432x288 with 1 Axes>"
      ]
     },
     "metadata": {
      "needs_background": "light"
     },
     "output_type": "display_data"
    }
   ],
   "source": [
    "import matplotlib.pyplot #your matplotlib import, note the added \".pyplot\"\n",
    "import numpy as np #your numpy import\n",
    "# replace your definition of the apples_price_array here:\n",
    "apples_price_array = np.array([1.34,2.01,1.75,1.50,2.50])\n",
    "\n",
    "\n",
    "# create your histogram here:\n",
    "plt.hist(apples_price_array)\n",
    "\n",
    "matplotlib.pyplot.show(apples_price_array) # This just shows your plot. You could also save it with \"savefig\""
   ]
  },
  {
   "cell_type": "markdown",
   "metadata": {},
   "source": [
    "Now use the Matplotlib ``scatter`` function to plot the price of cookies vs. the price of apples per trip to the grocery store (critical information to have!)"
   ]
  },
  {
   "cell_type": "code",
   "execution_count": 16,
   "metadata": {},
   "outputs": [
    {
     "data": {
      "image/png": "[encoded data removed]",
      "text/plain": [
       "<Figure size 432x288 with 1 Axes>"
      ]
     },
     "metadata": {
      "needs_background": "light"
     },
     "output_type": "display_data"
    }
   ],
   "source": [
    "import numpy as np\n",
    "import matplotlib.pyplot\n",
    "\n",
    "# insert your implementation of the \"scatter\" function here\n",
    "cookies_price = [0.53,1.21,0.75,1.23,0.95]\n",
    "cookies_price_array = np.array(cookies_price)\n",
    "plt.scatter(cookies_price_array,apples_price_array)\n",
    "\n",
    "matplotlib.pyplot.show() # This just shows your plot. You could also save it with \"savefig\""
   ]
  },
  {
   "cell_type": "markdown",
   "metadata": {},
   "source": [
    "Spend as much time as you want looking at matplotlib documentation and other sources to make your plots look better. Some ideas: Add axis labels, change the color of your data points, add a legend, etc. "
   ]
  },
  {
   "cell_type": "markdown",
   "metadata": {},
   "source": [
    "# Pandas\n",
    "You will use what you learned about finding the correct documentation and code help to implement functions inside of the Pandas package. Pandas is a very powerful package that makes it much simpler to interact with large datasets, data files, and excel files (plus much more). "
   ]
  },
  {
   "cell_type": "markdown",
   "metadata": {},
   "source": [
    "We're going to use pandas to read/write excel files"
   ]
  },
  {
   "cell_type": "code",
   "execution_count": 17,
   "metadata": {},
   "outputs": [
    {
     "name": "stdout",
     "output_type": "stream",
     "text": [
      "                 Timestamp Which of these foods do you prefer?  \\\n",
      "0  2020-07-15 17:24:36.976                               Pizza   \n",
      "1  2020-07-22 08:33:02.655                               Pizza   \n",
      "2  2020-07-22 08:33:04.292                               Salad   \n",
      "3  2020-07-22 08:33:04.308                               Salad   \n",
      "4  2020-07-22 08:33:24.067                               Pizza   \n",
      "5  2020-07-22 08:33:36.226                               Pizza   \n",
      "6  2020-07-22 08:33:44.258                                Cake   \n",
      "7  2020-07-22 08:33:52.396                                Cake   \n",
      "8  2020-07-22 08:34:11.469                               Pizza   \n",
      "9  2020-07-22 08:34:19.135                               Pizza   \n",
      "10 2020-07-22 08:34:23.163                               Pizza   \n",
      "11 2020-07-22 08:34:40.500                   None of the above   \n",
      "12 2020-07-22 08:34:41.687                                Cake   \n",
      "13 2020-07-22 08:34:41.759                               Pizza   \n",
      "14 2020-07-22 08:35:34.804                               Pizza   \n",
      "15 2020-07-22 08:35:53.681                               Pizza   \n",
      "16 2020-07-22 08:36:05.383                               Pizza   \n",
      "17 2020-07-22 08:36:06.309                               Pizza   \n",
      "18 2020-07-22 08:36:22.754                               Pizza   \n",
      "19 2020-07-22 08:36:27.259                               Salad   \n",
      "20 2020-07-22 08:36:58.164                               Salad   \n",
      "21 2020-07-22 08:37:08.640                               Salad   \n",
      "22 2020-07-22 08:38:20.196                               Salad   \n",
      "23 2020-07-22 08:41:11.009                               Pizza   \n",
      "24 2020-07-22 08:41:11.602                               Salad   \n",
      "25 2020-07-22 08:46:32.084                                Cake   \n",
      "26 2020-07-22 08:46:40.947                               Pizza   \n",
      "27 2020-07-22 08:47:17.485                               Pizza   \n",
      "28 2020-07-22 09:08:27.440                               Pizza   \n",
      "29 2020-07-22 09:25:43.356                               Salad   \n",
      "30 2020-07-22 09:38:28.866                               Salad   \n",
      "\n",
      "    How big of a Harry Potter fan are you?  \\\n",
      "0                                        5   \n",
      "1                                        4   \n",
      "2                                        2   \n",
      "3                                        4   \n",
      "4                                        3   \n",
      "5                                        4   \n",
      "6                                        5   \n",
      "7                                        5   \n",
      "8                                        4   \n",
      "9                                        3   \n",
      "10                                       4   \n",
      "11                                       3   \n",
      "12                                       1   \n",
      "13                                       2   \n",
      "14                                       4   \n",
      "15                                       2   \n",
      "16                                       1   \n",
      "17                                       2   \n",
      "18                                       4   \n",
      "19                                       3   \n",
      "20                                       4   \n",
      "21                                       1   \n",
      "22                                       3   \n",
      "23                                       2   \n",
      "24                                       1   \n",
      "25                                       4   \n",
      "26                                       2   \n",
      "27                                       3   \n",
      "28                                       2   \n",
      "29                                       1   \n",
      "30                                       3   \n",
      "\n",
      "   Please describe your Harry Potter fan level in one sentence.  \\\n",
      "0                         Favorite series of all time             \n",
      "1                                                Mega             \n",
      "2   Harry Potter is a boy child and an annoying ch...             \n",
      "3   I dressed up and went to the final book releas...             \n",
      "4   I've read all the books, but not seen all the ...             \n",
      "5                  They hold a lot of nostalgia value             \n",
      "6   I have read Harry Potter over 100 times, I lov...             \n",
      "7   I identify as a Hufflepuff before anything else.              \n",
      "8               Read all the books when they came out             \n",
      "9                                        It's alright             \n",
      "10  I started reading the books at age ten and hav...             \n",
      "11                                Harry Potter is ok.             \n",
      "12                         I don't like Harry Potter.             \n",
      "13            Read some books and watched some movies             \n",
      "14  I used to be really engaged with Harry Potter ...             \n",
      "15  Changed drastically since JK Rowling's TERF se...             \n",
      "16         I've never watched a movie or read a book.             \n",
      "17  Never finished reading them, and I haven't wat...             \n",
      "18  I love the Harry Potter world but I hate JK Ro...             \n",
      "19  Read all the books, watched some movie, hardly...             \n",
      "20                       You have your mother's eyes.             \n",
      "21       I never read the books or watched the movies             \n",
      "22                              I'm just indifferent              \n",
      "23  I liked it before it was a social media identi...             \n",
      "24                                          not a fan             \n",
      "25                                           Huge fan             \n",
      "26                                                Low             \n",
      "27  I've watched the movies, but haven't read the ...             \n",
      "28                                                meh             \n",
      "29  I read up to book 3 and could not get into it;...             \n",
      "30                                           moderate             \n",
      "\n",
      "   What is your favorite Ice Cream flavor?  What is your age?  \\\n",
      "0                         Cookies n' Cream                 27   \n",
      "1                                  Vanilla                 30   \n",
      "2                                 Grapenut                 37   \n",
      "3                                Chocolate                 29   \n",
      "4                                Chocolate                 41   \n",
      "5                                  Vanilla                 34   \n",
      "6                                Chocolate                 26   \n",
      "7                                    Other                 21   \n",
      "8                         Cookies n' Cream                 30   \n",
      "9                         Cookies n' Cream                 19   \n",
      "10                                 Vanilla                 20   \n",
      "11                                 Vanilla                 24   \n",
      "12                               Chocolate                 22   \n",
      "13                        Cookies n' Cream                 20   \n",
      "14                               Chocolate                 18   \n",
      "15                               Chocolate                 31   \n",
      "16                                 Vanilla                 18   \n",
      "17                                   Other                 21   \n",
      "18                        Cookies n' Cream                 30   \n",
      "19                                   Other                 31   \n",
      "20                                 Vanilla                 29   \n",
      "21                        Cookies n' Cream                 18   \n",
      "22                               Chocolate                 34   \n",
      "23                        Cookies n' Cream                 27   \n",
      "24                                 Vanilla                 24   \n",
      "25                                 Vanilla                 30   \n",
      "26                                   Other                 28   \n",
      "27                               Chocolate                 23   \n",
      "28                               Chocolate                 21   \n",
      "29                                   Other                 39   \n",
      "30                                 Vanilla                 27   \n",
      "\n",
      "   Which state are you from? (Leave blank if not applicable)  \\\n",
      "0                                               Maine          \n",
      "1                                                  SC          \n",
      "2                                                 NaN          \n",
      "3                                                  OH          \n",
      "4                                      South Carolina          \n",
      "5                                      South Carolina          \n",
      "6                                        Pennsylvania          \n",
      "7                                      South Carolina          \n",
      "8                                                  NY          \n",
      "9                                      South Carolina          \n",
      "10                                          New York           \n",
      "11                                               Iowa          \n",
      "12                                                 NC          \n",
      "13                                           maryland          \n",
      "14                                     South Carolina          \n",
      "15                                                NaN          \n",
      "16                                                NaN          \n",
      "17                                                NaN          \n",
      "18                                     South Carolina          \n",
      "19                                                NaN          \n",
      "20                                                NaN          \n",
      "21                                                 SC          \n",
      "22                                                 SC          \n",
      "23                                                 NY          \n",
      "24                                     South Carolina          \n",
      "25                                                 SC          \n",
      "26                                            Georgia          \n",
      "27                                                 SC          \n",
      "28                                                NaN          \n",
      "29                                              Maine          \n",
      "30                                                NaN          \n",
      "\n",
      "   Which country are you from?  \n",
      "0                United States  \n",
      "1                           US  \n",
      "2                United States  \n",
      "3                          USA  \n",
      "4                United States  \n",
      "5     United States of America  \n",
      "6                United States  \n",
      "7                United States  \n",
      "8                          USA  \n",
      "9                United States  \n",
      "10              United States   \n",
      "11               United States  \n",
      "12               United States  \n",
      "13                          US  \n",
      "14                       India  \n",
      "15                 Philippines  \n",
      "16                     Nigeria  \n",
      "17              United Kingdom  \n",
      "18               United States  \n",
      "19                      Russia  \n",
      "20                       China  \n",
      "21                      Merica  \n",
      "22                     Nigeria  \n",
      "23                      Canada  \n",
      "24                          US  \n",
      "25                         USA  \n",
      "26               United States  \n",
      "27                         USA  \n",
      "28                    Ukraine   \n",
      "29                         USA  \n",
      "30                       Nepal  \n"
     ]
    }
   ],
   "source": [
    "import pandas\n",
    "survey_responses = pandas.read_excel('https://github.com/uofscphysics/STEM_Python_Course/blob/Summer2020/01_Week1/05_PackagesIntro/participant_survey.xlsx?raw=true')\n",
    "\n",
    "print(survey_responses)"
   ]
  },
  {
   "cell_type": "code",
   "execution_count": 18,
   "metadata": {},
   "outputs": [
    {
     "data": {
      "text/html": [
       "<div>\n",
       "<style scoped>\n",
       "    .dataframe tbody tr th:only-of-type {\n",
       "        vertical-align: middle;\n",
       "    }\n",
       "\n",
       "    .dataframe tbody tr th {\n",
       "        vertical-align: top;\n",
       "    }\n",
       "\n",
       "    .dataframe thead th {\n",
       "        text-align: right;\n",
       "    }\n",
       "</style>\n",
       "<table border=\"1\" class=\"dataframe\">\n",
       "  <thead>\n",
       "    <tr style=\"text-align: right;\">\n",
       "      <th></th>\n",
       "      <th>Timestamp</th>\n",
       "      <th>Which of these foods do you prefer?</th>\n",
       "      <th>How big of a Harry Potter fan are you?</th>\n",
       "      <th>Please describe your Harry Potter fan level in one sentence.</th>\n",
       "      <th>What is your favorite Ice Cream flavor?</th>\n",
       "      <th>What is your age?</th>\n",
       "      <th>Which state are you from? (Leave blank if not applicable)</th>\n",
       "      <th>Which country are you from?</th>\n",
       "    </tr>\n",
       "  </thead>\n",
       "  <tbody>\n",
       "    <tr>\n",
       "      <th>0</th>\n",
       "      <td>2020-07-15 17:24:36.976</td>\n",
       "      <td>Pizza</td>\n",
       "      <td>5</td>\n",
       "      <td>Favorite series of all time</td>\n",
       "      <td>Cookies n' Cream</td>\n",
       "      <td>27</td>\n",
       "      <td>Maine</td>\n",
       "      <td>United States</td>\n",
       "    </tr>\n",
       "    <tr>\n",
       "      <th>1</th>\n",
       "      <td>2020-07-22 08:33:02.655</td>\n",
       "      <td>Pizza</td>\n",
       "      <td>4</td>\n",
       "      <td>Mega</td>\n",
       "      <td>Vanilla</td>\n",
       "      <td>30</td>\n",
       "      <td>SC</td>\n",
       "      <td>US</td>\n",
       "    </tr>\n",
       "    <tr>\n",
       "      <th>2</th>\n",
       "      <td>2020-07-22 08:33:04.292</td>\n",
       "      <td>Salad</td>\n",
       "      <td>2</td>\n",
       "      <td>Harry Potter is a boy child and an annoying ch...</td>\n",
       "      <td>Grapenut</td>\n",
       "      <td>37</td>\n",
       "      <td>NaN</td>\n",
       "      <td>United States</td>\n",
       "    </tr>\n",
       "    <tr>\n",
       "      <th>3</th>\n",
       "      <td>2020-07-22 08:33:04.308</td>\n",
       "      <td>Salad</td>\n",
       "      <td>4</td>\n",
       "      <td>I dressed up and went to the final book releas...</td>\n",
       "      <td>Chocolate</td>\n",
       "      <td>29</td>\n",
       "      <td>OH</td>\n",
       "      <td>USA</td>\n",
       "    </tr>\n",
       "    <tr>\n",
       "      <th>4</th>\n",
       "      <td>2020-07-22 08:33:24.067</td>\n",
       "      <td>Pizza</td>\n",
       "      <td>3</td>\n",
       "      <td>I've read all the books, but not seen all the ...</td>\n",
       "      <td>Chocolate</td>\n",
       "      <td>41</td>\n",
       "      <td>South Carolina</td>\n",
       "      <td>United States</td>\n",
       "    </tr>\n",
       "    <tr>\n",
       "      <th>5</th>\n",
       "      <td>2020-07-22 08:33:36.226</td>\n",
       "      <td>Pizza</td>\n",
       "      <td>4</td>\n",
       "      <td>They hold a lot of nostalgia value</td>\n",
       "      <td>Vanilla</td>\n",
       "      <td>34</td>\n",
       "      <td>South Carolina</td>\n",
       "      <td>United States of America</td>\n",
       "    </tr>\n",
       "    <tr>\n",
       "      <th>6</th>\n",
       "      <td>2020-07-22 08:33:44.258</td>\n",
       "      <td>Cake</td>\n",
       "      <td>5</td>\n",
       "      <td>I have read Harry Potter over 100 times, I lov...</td>\n",
       "      <td>Chocolate</td>\n",
       "      <td>26</td>\n",
       "      <td>Pennsylvania</td>\n",
       "      <td>United States</td>\n",
       "    </tr>\n",
       "    <tr>\n",
       "      <th>7</th>\n",
       "      <td>2020-07-22 08:33:52.396</td>\n",
       "      <td>Cake</td>\n",
       "      <td>5</td>\n",
       "      <td>I identify as a Hufflepuff before anything else.</td>\n",
       "      <td>Other</td>\n",
       "      <td>21</td>\n",
       "      <td>South Carolina</td>\n",
       "      <td>United States</td>\n",
       "    </tr>\n",
       "    <tr>\n",
       "      <th>8</th>\n",
       "      <td>2020-07-22 08:34:11.469</td>\n",
       "      <td>Pizza</td>\n",
       "      <td>4</td>\n",
       "      <td>Read all the books when they came out</td>\n",
       "      <td>Cookies n' Cream</td>\n",
       "      <td>30</td>\n",
       "      <td>NY</td>\n",
       "      <td>USA</td>\n",
       "    </tr>\n",
       "    <tr>\n",
       "      <th>9</th>\n",
       "      <td>2020-07-22 08:34:19.135</td>\n",
       "      <td>Pizza</td>\n",
       "      <td>3</td>\n",
       "      <td>It's alright</td>\n",
       "      <td>Cookies n' Cream</td>\n",
       "      <td>19</td>\n",
       "      <td>South Carolina</td>\n",
       "      <td>United States</td>\n",
       "    </tr>\n",
       "    <tr>\n",
       "      <th>10</th>\n",
       "      <td>2020-07-22 08:34:23.163</td>\n",
       "      <td>Pizza</td>\n",
       "      <td>4</td>\n",
       "      <td>I started reading the books at age ten and hav...</td>\n",
       "      <td>Vanilla</td>\n",
       "      <td>20</td>\n",
       "      <td>New York</td>\n",
       "      <td>United States</td>\n",
       "    </tr>\n",
       "    <tr>\n",
       "      <th>11</th>\n",
       "      <td>2020-07-22 08:34:40.500</td>\n",
       "      <td>None of the above</td>\n",
       "      <td>3</td>\n",
       "      <td>Harry Potter is ok.</td>\n",
       "      <td>Vanilla</td>\n",
       "      <td>24</td>\n",
       "      <td>Iowa</td>\n",
       "      <td>United States</td>\n",
       "    </tr>\n",
       "    <tr>\n",
       "      <th>12</th>\n",
       "      <td>2020-07-22 08:34:41.687</td>\n",
       "      <td>Cake</td>\n",
       "      <td>1</td>\n",
       "      <td>I don't like Harry Potter.</td>\n",
       "      <td>Chocolate</td>\n",
       "      <td>22</td>\n",
       "      <td>NC</td>\n",
       "      <td>United States</td>\n",
       "    </tr>\n",
       "    <tr>\n",
       "      <th>13</th>\n",
       "      <td>2020-07-22 08:34:41.759</td>\n",
       "      <td>Pizza</td>\n",
       "      <td>2</td>\n",
       "      <td>Read some books and watched some movies</td>\n",
       "      <td>Cookies n' Cream</td>\n",
       "      <td>20</td>\n",
       "      <td>maryland</td>\n",
       "      <td>US</td>\n",
       "    </tr>\n",
       "    <tr>\n",
       "      <th>14</th>\n",
       "      <td>2020-07-22 08:35:34.804</td>\n",
       "      <td>Pizza</td>\n",
       "      <td>4</td>\n",
       "      <td>I used to be really engaged with Harry Potter ...</td>\n",
       "      <td>Chocolate</td>\n",
       "      <td>18</td>\n",
       "      <td>South Carolina</td>\n",
       "      <td>India</td>\n",
       "    </tr>\n",
       "    <tr>\n",
       "      <th>15</th>\n",
       "      <td>2020-07-22 08:35:53.681</td>\n",
       "      <td>Pizza</td>\n",
       "      <td>2</td>\n",
       "      <td>Changed drastically since JK Rowling's TERF se...</td>\n",
       "      <td>Chocolate</td>\n",
       "      <td>31</td>\n",
       "      <td>NaN</td>\n",
       "      <td>Philippines</td>\n",
       "    </tr>\n",
       "    <tr>\n",
       "      <th>16</th>\n",
       "      <td>2020-07-22 08:36:05.383</td>\n",
       "      <td>Pizza</td>\n",
       "      <td>1</td>\n",
       "      <td>I've never watched a movie or read a book.</td>\n",
       "      <td>Vanilla</td>\n",
       "      <td>18</td>\n",
       "      <td>NaN</td>\n",
       "      <td>Nigeria</td>\n",
       "    </tr>\n",
       "    <tr>\n",
       "      <th>17</th>\n",
       "      <td>2020-07-22 08:36:06.309</td>\n",
       "      <td>Pizza</td>\n",
       "      <td>2</td>\n",
       "      <td>Never finished reading them, and I haven't wat...</td>\n",
       "      <td>Other</td>\n",
       "      <td>21</td>\n",
       "      <td>NaN</td>\n",
       "      <td>United Kingdom</td>\n",
       "    </tr>\n",
       "    <tr>\n",
       "      <th>18</th>\n",
       "      <td>2020-07-22 08:36:22.754</td>\n",
       "      <td>Pizza</td>\n",
       "      <td>4</td>\n",
       "      <td>I love the Harry Potter world but I hate JK Ro...</td>\n",
       "      <td>Cookies n' Cream</td>\n",
       "      <td>30</td>\n",
       "      <td>South Carolina</td>\n",
       "      <td>United States</td>\n",
       "    </tr>\n",
       "    <tr>\n",
       "      <th>19</th>\n",
       "      <td>2020-07-22 08:36:27.259</td>\n",
       "      <td>Salad</td>\n",
       "      <td>3</td>\n",
       "      <td>Read all the books, watched some movie, hardly...</td>\n",
       "      <td>Other</td>\n",
       "      <td>31</td>\n",
       "      <td>NaN</td>\n",
       "      <td>Russia</td>\n",
       "    </tr>\n",
       "    <tr>\n",
       "      <th>20</th>\n",
       "      <td>2020-07-22 08:36:58.164</td>\n",
       "      <td>Salad</td>\n",
       "      <td>4</td>\n",
       "      <td>You have your mother's eyes.</td>\n",
       "      <td>Vanilla</td>\n",
       "      <td>29</td>\n",
       "      <td>NaN</td>\n",
       "      <td>China</td>\n",
       "    </tr>\n",
       "    <tr>\n",
       "      <th>21</th>\n",
       "      <td>2020-07-22 08:37:08.640</td>\n",
       "      <td>Salad</td>\n",
       "      <td>1</td>\n",
       "      <td>I never read the books or watched the movies</td>\n",
       "      <td>Cookies n' Cream</td>\n",
       "      <td>18</td>\n",
       "      <td>SC</td>\n",
       "      <td>Merica</td>\n",
       "    </tr>\n",
       "    <tr>\n",
       "      <th>22</th>\n",
       "      <td>2020-07-22 08:38:20.196</td>\n",
       "      <td>Salad</td>\n",
       "      <td>3</td>\n",
       "      <td>I'm just indifferent</td>\n",
       "      <td>Chocolate</td>\n",
       "      <td>34</td>\n",
       "      <td>SC</td>\n",
       "      <td>Nigeria</td>\n",
       "    </tr>\n",
       "    <tr>\n",
       "      <th>23</th>\n",
       "      <td>2020-07-22 08:41:11.009</td>\n",
       "      <td>Pizza</td>\n",
       "      <td>2</td>\n",
       "      <td>I liked it before it was a social media identi...</td>\n",
       "      <td>Cookies n' Cream</td>\n",
       "      <td>27</td>\n",
       "      <td>NY</td>\n",
       "      <td>Canada</td>\n",
       "    </tr>\n",
       "    <tr>\n",
       "      <th>24</th>\n",
       "      <td>2020-07-22 08:41:11.602</td>\n",
       "      <td>Salad</td>\n",
       "      <td>1</td>\n",
       "      <td>not a fan</td>\n",
       "      <td>Vanilla</td>\n",
       "      <td>24</td>\n",
       "      <td>South Carolina</td>\n",
       "      <td>US</td>\n",
       "    </tr>\n",
       "    <tr>\n",
       "      <th>25</th>\n",
       "      <td>2020-07-22 08:46:32.084</td>\n",
       "      <td>Cake</td>\n",
       "      <td>4</td>\n",
       "      <td>Huge fan</td>\n",
       "      <td>Vanilla</td>\n",
       "      <td>30</td>\n",
       "      <td>SC</td>\n",
       "      <td>USA</td>\n",
       "    </tr>\n",
       "    <tr>\n",
       "      <th>26</th>\n",
       "      <td>2020-07-22 08:46:40.947</td>\n",
       "      <td>Pizza</td>\n",
       "      <td>2</td>\n",
       "      <td>Low</td>\n",
       "      <td>Other</td>\n",
       "      <td>28</td>\n",
       "      <td>Georgia</td>\n",
       "      <td>United States</td>\n",
       "    </tr>\n",
       "    <tr>\n",
       "      <th>27</th>\n",
       "      <td>2020-07-22 08:47:17.485</td>\n",
       "      <td>Pizza</td>\n",
       "      <td>3</td>\n",
       "      <td>I've watched the movies, but haven't read the ...</td>\n",
       "      <td>Chocolate</td>\n",
       "      <td>23</td>\n",
       "      <td>SC</td>\n",
       "      <td>USA</td>\n",
       "    </tr>\n",
       "    <tr>\n",
       "      <th>28</th>\n",
       "      <td>2020-07-22 09:08:27.440</td>\n",
       "      <td>Pizza</td>\n",
       "      <td>2</td>\n",
       "      <td>meh</td>\n",
       "      <td>Chocolate</td>\n",
       "      <td>21</td>\n",
       "      <td>NaN</td>\n",
       "      <td>Ukraine</td>\n",
       "    </tr>\n",
       "    <tr>\n",
       "      <th>29</th>\n",
       "      <td>2020-07-22 09:25:43.356</td>\n",
       "      <td>Salad</td>\n",
       "      <td>1</td>\n",
       "      <td>I read up to book 3 and could not get into it;...</td>\n",
       "      <td>Other</td>\n",
       "      <td>39</td>\n",
       "      <td>Maine</td>\n",
       "      <td>USA</td>\n",
       "    </tr>\n",
       "    <tr>\n",
       "      <th>30</th>\n",
       "      <td>2020-07-22 09:38:28.866</td>\n",
       "      <td>Salad</td>\n",
       "      <td>3</td>\n",
       "      <td>moderate</td>\n",
       "      <td>Vanilla</td>\n",
       "      <td>27</td>\n",
       "      <td>NaN</td>\n",
       "      <td>Nepal</td>\n",
       "    </tr>\n",
       "  </tbody>\n",
       "</table>\n",
       "</div>"
      ],
      "text/plain": [
       "                 Timestamp Which of these foods do you prefer?  \\\n",
       "0  2020-07-15 17:24:36.976                               Pizza   \n",
       "1  2020-07-22 08:33:02.655                               Pizza   \n",
       "2  2020-07-22 08:33:04.292                               Salad   \n",
       "3  2020-07-22 08:33:04.308                               Salad   \n",
       "4  2020-07-22 08:33:24.067                               Pizza   \n",
       "5  2020-07-22 08:33:36.226                               Pizza   \n",
       "6  2020-07-22 08:33:44.258                                Cake   \n",
       "7  2020-07-22 08:33:52.396                                Cake   \n",
       "8  2020-07-22 08:34:11.469                               Pizza   \n",
       "9  2020-07-22 08:34:19.135                               Pizza   \n",
       "10 2020-07-22 08:34:23.163                               Pizza   \n",
       "11 2020-07-22 08:34:40.500                   None of the above   \n",
       "12 2020-07-22 08:34:41.687                                Cake   \n",
       "13 2020-07-22 08:34:41.759                               Pizza   \n",
       "14 2020-07-22 08:35:34.804                               Pizza   \n",
       "15 2020-07-22 08:35:53.681                               Pizza   \n",
       "16 2020-07-22 08:36:05.383                               Pizza   \n",
       "17 2020-07-22 08:36:06.309                               Pizza   \n",
       "18 2020-07-22 08:36:22.754                               Pizza   \n",
       "19 2020-07-22 08:36:27.259                               Salad   \n",
       "20 2020-07-22 08:36:58.164                               Salad   \n",
       "21 2020-07-22 08:37:08.640                               Salad   \n",
       "22 2020-07-22 08:38:20.196                               Salad   \n",
       "23 2020-07-22 08:41:11.009                               Pizza   \n",
       "24 2020-07-22 08:41:11.602                               Salad   \n",
       "25 2020-07-22 08:46:32.084                                Cake   \n",
       "26 2020-07-22 08:46:40.947                               Pizza   \n",
       "27 2020-07-22 08:47:17.485                               Pizza   \n",
       "28 2020-07-22 09:08:27.440                               Pizza   \n",
       "29 2020-07-22 09:25:43.356                               Salad   \n",
       "30 2020-07-22 09:38:28.866                               Salad   \n",
       "\n",
       "    How big of a Harry Potter fan are you?  \\\n",
       "0                                        5   \n",
       "1                                        4   \n",
       "2                                        2   \n",
       "3                                        4   \n",
       "4                                        3   \n",
       "5                                        4   \n",
       "6                                        5   \n",
       "7                                        5   \n",
       "8                                        4   \n",
       "9                                        3   \n",
       "10                                       4   \n",
       "11                                       3   \n",
       "12                                       1   \n",
       "13                                       2   \n",
       "14                                       4   \n",
       "15                                       2   \n",
       "16                                       1   \n",
       "17                                       2   \n",
       "18                                       4   \n",
       "19                                       3   \n",
       "20                                       4   \n",
       "21                                       1   \n",
       "22                                       3   \n",
       "23                                       2   \n",
       "24                                       1   \n",
       "25                                       4   \n",
       "26                                       2   \n",
       "27                                       3   \n",
       "28                                       2   \n",
       "29                                       1   \n",
       "30                                       3   \n",
       "\n",
       "   Please describe your Harry Potter fan level in one sentence.  \\\n",
       "0                         Favorite series of all time             \n",
       "1                                                Mega             \n",
       "2   Harry Potter is a boy child and an annoying ch...             \n",
       "3   I dressed up and went to the final book releas...             \n",
       "4   I've read all the books, but not seen all the ...             \n",
       "5                  They hold a lot of nostalgia value             \n",
       "6   I have read Harry Potter over 100 times, I lov...             \n",
       "7   I identify as a Hufflepuff before anything else.              \n",
       "8               Read all the books when they came out             \n",
       "9                                        It's alright             \n",
       "10  I started reading the books at age ten and hav...             \n",
       "11                                Harry Potter is ok.             \n",
       "12                         I don't like Harry Potter.             \n",
       "13            Read some books and watched some movies             \n",
       "14  I used to be really engaged with Harry Potter ...             \n",
       "15  Changed drastically since JK Rowling's TERF se...             \n",
       "16         I've never watched a movie or read a book.             \n",
       "17  Never finished reading them, and I haven't wat...             \n",
       "18  I love the Harry Potter world but I hate JK Ro...             \n",
       "19  Read all the books, watched some movie, hardly...             \n",
       "20                       You have your mother's eyes.             \n",
       "21       I never read the books or watched the movies             \n",
       "22                              I'm just indifferent              \n",
       "23  I liked it before it was a social media identi...             \n",
       "24                                          not a fan             \n",
       "25                                           Huge fan             \n",
       "26                                                Low             \n",
       "27  I've watched the movies, but haven't read the ...             \n",
       "28                                                meh             \n",
       "29  I read up to book 3 and could not get into it;...             \n",
       "30                                           moderate             \n",
       "\n",
       "   What is your favorite Ice Cream flavor?  What is your age?  \\\n",
       "0                         Cookies n' Cream                 27   \n",
       "1                                  Vanilla                 30   \n",
       "2                                 Grapenut                 37   \n",
       "3                                Chocolate                 29   \n",
       "4                                Chocolate                 41   \n",
       "5                                  Vanilla                 34   \n",
       "6                                Chocolate                 26   \n",
       "7                                    Other                 21   \n",
       "8                         Cookies n' Cream                 30   \n",
       "9                         Cookies n' Cream                 19   \n",
       "10                                 Vanilla                 20   \n",
       "11                                 Vanilla                 24   \n",
       "12                               Chocolate                 22   \n",
       "13                        Cookies n' Cream                 20   \n",
       "14                               Chocolate                 18   \n",
       "15                               Chocolate                 31   \n",
       "16                                 Vanilla                 18   \n",
       "17                                   Other                 21   \n",
       "18                        Cookies n' Cream                 30   \n",
       "19                                   Other                 31   \n",
       "20                                 Vanilla                 29   \n",
       "21                        Cookies n' Cream                 18   \n",
       "22                               Chocolate                 34   \n",
       "23                        Cookies n' Cream                 27   \n",
       "24                                 Vanilla                 24   \n",
       "25                                 Vanilla                 30   \n",
       "26                                   Other                 28   \n",
       "27                               Chocolate                 23   \n",
       "28                               Chocolate                 21   \n",
       "29                                   Other                 39   \n",
       "30                                 Vanilla                 27   \n",
       "\n",
       "   Which state are you from? (Leave blank if not applicable)  \\\n",
       "0                                               Maine          \n",
       "1                                                  SC          \n",
       "2                                                 NaN          \n",
       "3                                                  OH          \n",
       "4                                      South Carolina          \n",
       "5                                      South Carolina          \n",
       "6                                        Pennsylvania          \n",
       "7                                      South Carolina          \n",
       "8                                                  NY          \n",
       "9                                      South Carolina          \n",
       "10                                          New York           \n",
       "11                                               Iowa          \n",
       "12                                                 NC          \n",
       "13                                           maryland          \n",
       "14                                     South Carolina          \n",
       "15                                                NaN          \n",
       "16                                                NaN          \n",
       "17                                                NaN          \n",
       "18                                     South Carolina          \n",
       "19                                                NaN          \n",
       "20                                                NaN          \n",
       "21                                                 SC          \n",
       "22                                                 SC          \n",
       "23                                                 NY          \n",
       "24                                     South Carolina          \n",
       "25                                                 SC          \n",
       "26                                            Georgia          \n",
       "27                                                 SC          \n",
       "28                                                NaN          \n",
       "29                                              Maine          \n",
       "30                                                NaN          \n",
       "\n",
       "   Which country are you from?  \n",
       "0                United States  \n",
       "1                           US  \n",
       "2                United States  \n",
       "3                          USA  \n",
       "4                United States  \n",
       "5     United States of America  \n",
       "6                United States  \n",
       "7                United States  \n",
       "8                          USA  \n",
       "9                United States  \n",
       "10              United States   \n",
       "11               United States  \n",
       "12               United States  \n",
       "13                          US  \n",
       "14                       India  \n",
       "15                 Philippines  \n",
       "16                     Nigeria  \n",
       "17              United Kingdom  \n",
       "18               United States  \n",
       "19                      Russia  \n",
       "20                       China  \n",
       "21                      Merica  \n",
       "22                     Nigeria  \n",
       "23                      Canada  \n",
       "24                          US  \n",
       "25                         USA  \n",
       "26               United States  \n",
       "27                         USA  \n",
       "28                    Ukraine   \n",
       "29                         USA  \n",
       "30                       Nepal  "
      ]
     },
     "execution_count": 18,
     "metadata": {},
     "output_type": "execute_result"
    }
   ],
   "source": [
    "survey_responses"
   ]
  },
  {
   "cell_type": "code",
   "execution_count": 21,
   "metadata": {},
   "outputs": [
    {
     "data": {
      "text/plain": [
       "0    2020-07-15 17:24:36.976\n",
       "1    2020-07-22 08:33:02.655\n",
       "2    2020-07-22 08:33:04.292\n",
       "3    2020-07-22 08:33:04.308\n",
       "4    2020-07-22 08:33:24.067\n",
       "5    2020-07-22 08:33:36.226\n",
       "6    2020-07-22 08:33:44.258\n",
       "7    2020-07-22 08:33:52.396\n",
       "8    2020-07-22 08:34:11.469\n",
       "9    2020-07-22 08:34:19.135\n",
       "10   2020-07-22 08:34:23.163\n",
       "11   2020-07-22 08:34:40.500\n",
       "12   2020-07-22 08:34:41.687\n",
       "13   2020-07-22 08:34:41.759\n",
       "14   2020-07-22 08:35:34.804\n",
       "15   2020-07-22 08:35:53.681\n",
       "16   2020-07-22 08:36:05.383\n",
       "17   2020-07-22 08:36:06.309\n",
       "18   2020-07-22 08:36:22.754\n",
       "19   2020-07-22 08:36:27.259\n",
       "20   2020-07-22 08:36:58.164\n",
       "21   2020-07-22 08:37:08.640\n",
       "22   2020-07-22 08:38:20.196\n",
       "23   2020-07-22 08:41:11.009\n",
       "24   2020-07-22 08:41:11.602\n",
       "25   2020-07-22 08:46:32.084\n",
       "26   2020-07-22 08:46:40.947\n",
       "27   2020-07-22 08:47:17.485\n",
       "28   2020-07-22 09:08:27.440\n",
       "29   2020-07-22 09:25:43.356\n",
       "30   2020-07-22 09:38:28.866\n",
       "Name: Timestamp, dtype: datetime64[ns]"
      ]
     },
     "execution_count": 21,
     "metadata": {},
     "output_type": "execute_result"
    }
   ],
   "source": [
    "survey_responses['Timestamp'] #this is for anything in the file."
   ]
  },
  {
   "cell_type": "markdown",
   "metadata": {},
   "source": [
    "We will now go through each of the survey question responses and see what we can do with pandas, numpy, and matplotlib for each one. "
   ]
  },
  {
   "cell_type": "markdown",
   "metadata": {},
   "source": [
    "# Which  of these foods do you prefer?\n",
    "Try making a pie chart using matplotlib. "
   ]
  },
  {
   "cell_type": "code",
   "execution_count": 22,
   "metadata": {},
   "outputs": [
    {
     "data": {
      "text/plain": [
       "<matplotlib.axes._subplots.AxesSubplot at 0x7f8fa0b90d30>"
      ]
     },
     "execution_count": 22,
     "metadata": {},
     "output_type": "execute_result"
    },
    {
     "data": {
      "image/png": "[encoded data removed]",
      "text/plain": [
       "<Figure size 432x288 with 1 Axes>"
      ]
     },
     "metadata": {
      "needs_background": "light"
     },
     "output_type": "display_data"
    }
   ],
   "source": [
    "survey_responses[\"Which of these foods do you prefer?\"].hist()\n"
   ]
  },
  {
   "cell_type": "markdown",
   "metadata": {},
   "source": [
    "# How big of a Harry Potter Fan are you?\n",
    "Try making a histogram using pandas and/or matplotlib. Also take a look at things like `mean`, `median`, `std`, `max`, and `min` using numpy."
   ]
  },
  {
   "cell_type": "code",
   "execution_count": null,
   "metadata": {},
   "outputs": [],
   "source": []
  },
  {
   "cell_type": "markdown",
   "metadata": {},
   "source": [
    "# What is your favorite Ice Cream Flavor?\n",
    "Try making a pie chart using matplotlib."
   ]
  },
  {
   "cell_type": "code",
   "execution_count": null,
   "metadata": {},
   "outputs": [],
   "source": []
  },
  {
   "cell_type": "markdown",
   "metadata": {},
   "source": [
    "# What is your age?\n",
    "Try making a histogram using pandas and/or matplotlib. Also take a look at things like `mean`, `median`, `std`, `max`, and `min` using numpy."
   ]
  },
  {
   "cell_type": "code",
   "execution_count": 29,
   "metadata": {},
   "outputs": [
    {
     "name": "stdout",
     "output_type": "stream",
     "text": [
      "26.741935483870968\n",
      "27.0\n",
      "6.287382825603903\n",
      "41\n",
      "18\n"
     ]
    },
    {
     "data": {
      "image/png": "[encoded data removed]",
      "text/plain": [
       "<Figure size 432x288 with 1 Axes>"
      ]
     },
     "metadata": {
      "needs_background": "light"
     },
     "output_type": "display_data"
    }
   ],
   "source": [
    "survey_responses['What is your age?'].hist()\n",
    "print(survey_responses['What is your age?'].mean())\n",
    "print(survey_responses['What is your age?'].median())\n",
    "print(survey_responses['What is your age?'].std())\n",
    "print(survey_responses['What is your age?'].max())\n",
    "print(survey_responses['What is your age?'].min())\n"
   ]
  },
  {
   "cell_type": "markdown",
   "metadata": {},
   "source": [
    "# Which state are you  from? \n",
    "Try making a pie chart using matplotlib. Also take a look at `unique` from numpy."
   ]
  },
  {
   "cell_type": "code",
   "execution_count": null,
   "metadata": {},
   "outputs": [],
   "source": []
  },
  {
   "cell_type": "markdown",
   "metadata": {},
   "source": [
    "# Which country are you from?\n",
    "Try making a pie chart using matplotlib. Also take a look at `unique` from numpy."
   ]
  },
  {
   "cell_type": "code",
   "execution_count": 23,
   "metadata": {},
   "outputs": [
    {
     "data": {
      "text/plain": [
       "<matplotlib.axes._subplots.AxesSubplot at 0x7f8fa0b07a60>"
      ]
     },
     "execution_count": 23,
     "metadata": {},
     "output_type": "execute_result"
    },
    {
     "data": {
      "image/png": "[encoded data removed]",
      "text/plain": [
       "<Figure size 432x288 with 1 Axes>"
      ]
     },
     "metadata": {
      "needs_background": "light"
     },
     "output_type": "display_data"
    }
   ],
   "source": [
    "survey_responses['Which country are you from?'].hist()"
   ]
  },
  {
   "cell_type": "code",
   "execution_count": null,
   "metadata": {},
   "outputs": [],
   "source": []
  }
 ],
 "metadata": {
  "kernelspec": {
   "display_name": "Python 3",
   "language": "python",
   "name": "python3"
  },
  "language_info": {
   "codemirror_mode": {
    "name": "ipython",
    "version": 3
   },
   "file_extension": ".py",
   "mimetype": "text/x-python",
   "name": "python",
   "nbconvert_exporter": "python",
   "pygments_lexer": "ipython3",
   "version": "3.8.3"
  }
 },
 "nbformat": 4,
 "nbformat_minor": 2
}
